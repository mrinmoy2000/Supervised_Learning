{
 "cells": [
  {
   "cell_type": "code",
   "execution_count": 1,
   "metadata": {},
   "outputs": [],
   "source": [
    "import matplotlib.pyplot as plt\n",
    "import pandas as pd\n",
    "import numpy as np"
   ]
  },
  {
   "cell_type": "code",
   "execution_count": 2,
   "metadata": {},
   "outputs": [],
   "source": [
    "def gradient_descent(X, Y, learning_rate, current_m, current_c):\n",
    "    \n",
    "    # gradient descent algorithm\n",
    "    \n",
    "    N = float(len(X))\n",
    "    Y_pred = current_m * X + current_c\n",
    "    gradient_m = (-2/N) * sum(X * (Y - Y_pred))\n",
    "    gradient_c = (-2/N) * sum(Y - Y_pred)\n",
    "    \n",
    "    current_m = current_m - learning_rate *  gradient_m\n",
    "    current_c = current_c - learning_rate *  gradient_c\n",
    "    return [current_m, current_c]"
   ]
  },
  {
   "cell_type": "code",
   "execution_count": 3,
   "metadata": {},
   "outputs": [],
   "source": [
    "def gradient_descent_runner(X, Y, learning_rate, epoch, current_m, current_c):\n",
    "    \n",
    "    for i in range(epoch):\n",
    "        [current_m, current_c] = gradient_descent(X, Y, learning_rate, current_m, current_c) # gradient descent algorithm\n",
    "    \n",
    "    return [current_m, current_c]"
   ]
  },
  {
   "cell_type": "code",
   "execution_count": 4,
   "metadata": {},
   "outputs": [],
   "source": [
    "def gradient_plotter(X, Y, current_m, current_c):\n",
    "    Y_pred = current_m * X + current_c\n",
    "    \n",
    "    print(current_m, current_c)\n",
    "    plt.xlabel('X')\n",
    "    plt.ylabel('Y')\n",
    "    plt.title('Random Test Data')\n",
    "    plt.scatter(X, Y)\n",
    "    plt.plot([min(X), max(X)], [min(Y_pred), max(Y_pred)], color='red')"
   ]
  },
  {
   "cell_type": "code",
   "execution_count": 5,
   "metadata": {},
   "outputs": [],
   "source": [
    "def run():\n",
    "    \n",
    "    df = pd.read_csv('data.csv') #reading data\n",
    "    epoch = 1000 #iteration count\n",
    "    \n",
    "    m = 0\n",
    "    c = 0\n",
    "    \n",
    "    learning_rate = 0.0001 #learning rate\n",
    "    X = df.iloc[:, 0] # X column of the data\n",
    "    Y = df.iloc[:, 1] # Y column of the data\n",
    "    \n",
    "    [m, c] = gradient_descent_runner(X, Y, learning_rate, epoch, m, c)\n",
    "    gradient_plotter(X, Y, m, c)"
   ]
  },
  {
   "cell_type": "code",
   "execution_count": 6,
   "metadata": {},
   "outputs": [
    {
     "name": "stdout",
     "output_type": "stream",
     "text": [
      "1.4796491688889395 0.10148121494753726\n"
     ]
    },
    {
     "data": {
      "image/png": "[encoded data removed]",
      "text/plain": [
       "<Figure size 432x288 with 1 Axes>"
      ]
     },
     "metadata": {
      "needs_background": "light"
     },
     "output_type": "display_data"
    }
   ],
   "source": [
    "if __name__ == '__main__':\n",
    "    run()"
   ]
  },
  {
   "cell_type": "code",
   "execution_count": null,
   "metadata": {},
   "outputs": [],
   "source": []
  }
 ],
 "metadata": {
  "kernelspec": {
   "display_name": "Python 3",
   "language": "python",
   "name": "python3"
  },
  "language_info": {
   "codemirror_mode": {
    "name": "ipython",
    "version": 3
   },
   "file_extension": ".py",
   "mimetype": "text/x-python",
   "name": "python",
   "nbconvert_exporter": "python",
   "pygments_lexer": "ipython3",
   "version": "3.7.3"
  }
 },
 "nbformat": 4,
 "nbformat_minor": 2
}
