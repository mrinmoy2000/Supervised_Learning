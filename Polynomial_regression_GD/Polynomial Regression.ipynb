{
 "cells": [
  {
   "cell_type": "code",
   "execution_count": 1,
   "metadata": {},
   "outputs": [],
   "source": [
    "import matplotlib.pyplot as plt\n",
    "import pandas as pd\n",
    "import numpy as np"
   ]
  },
  {
   "cell_type": "markdown",
   "metadata": {},
   "source": [
    "# Normal Method"
   ]
  },
  {
   "cell_type": "code",
   "execution_count": 2,
   "metadata": {},
   "outputs": [],
   "source": [
    "def normal_method(df, degree):\n",
    "    X = df.iloc[:, 0].values.reshape(100,1)\n",
    "    Y = df.iloc[:, 1].values.reshape(100,1)\n",
    "\n",
    "    X = np.array(X)\n",
    "    Y = np.array(Y)\n",
    "\n",
    "    H = np.zeros([len(X), degree+1])\n",
    "    W = np.ones([degree+1, 1])\n",
    "\n",
    "    for i in range(len(X)):\n",
    "        H[i][0] = 1\n",
    "        for j in range(1, degree+1):\n",
    "            H[i][j] = X[i]**j\n",
    "        \n",
    "    Y_pred = H.dot(W)\n",
    "\n",
    "    H_t = H.transpose()\n",
    "    m = np.linalg.inv(H_t.dot(H))\n",
    "    n = H_t.dot(Y)\n",
    "    w = m.dot(n)\n",
    "\n",
    "    return w"
   ]
  },
  {
   "cell_type": "markdown",
   "metadata": {},
   "source": [
    "# Gradient Descent Method"
   ]
  },
  {
   "cell_type": "code",
   "execution_count": 3,
   "metadata": {},
   "outputs": [],
   "source": [
    "def Y_predictor(X,w):\n",
    "    for i in range(len(w)):\n",
    "        Y = w[i] * (X**i)\n",
    "    return Y"
   ]
  },
  {
   "cell_type": "code",
   "execution_count": 4,
   "metadata": {},
   "outputs": [],
   "source": [
    "def gradient_descent(X, Y, learning_rate, degree, w):\n",
    "    \n",
    "    # gradient descent algorithm\n",
    "    gradient = np.zeros([degree+1,1])\n",
    "    N = float(len(X))\n",
    "    \n",
    "    for i in range(degree+1):\n",
    "        Y_pred = Y_predictor(X,w)\n",
    "        gradient[i] = (-2/N) * sum((X**i) * (Y - Y_pred))\n",
    "    \n",
    "    w = w - learning_rate * gradient\n",
    "    return w"
   ]
  },
  {
   "cell_type": "code",
   "execution_count": 5,
   "metadata": {},
   "outputs": [],
   "source": [
    "def gradient_descent_runner(X, Y, learning_rate, epoch, degree, w):\n",
    "    \n",
    "    for i in range(epoch):\n",
    "        w = gradient_descent(X, Y, learning_rate, degree, w) # gradient descent algorithm\n",
    "    \n",
    "    return w"
   ]
  },
  {
   "cell_type": "code",
   "execution_count": 6,
   "metadata": {},
   "outputs": [],
   "source": [
    "def gradient_plotter(X, Y, w, text):\n",
    "    Y_pred = Y_predictor(X,w)\n",
    "    \n",
    "    print(\"Y_intercept = {}\\nCoefficients = {}\".format(w[0],w[1:]))\n",
    "    plt.xlabel('X')\n",
    "    plt.ylabel('Y')\n",
    "    plt.title('Random Test Data\\n {}'.format(text))\n",
    "    plt.scatter(X, Y, alpha=0.7)\n",
    "    plt.scatter(X,Y_pred, marker='.', color='r')\n",
    "    plt.show()"
   ]
  },
  {
   "cell_type": "code",
   "execution_count": 7,
   "metadata": {},
   "outputs": [],
   "source": [
    "def run():\n",
    "    \n",
    "    df = pd.read_csv('polynomial_data.csv') #reading data\n",
    "    epoch = 1 #iteration count\n",
    "    \n",
    "    degree = 3\n",
    "    w = np.zeros([degree+1,1])\n",
    "    \n",
    "    learning_rate = 0.0001 #learning rate\n",
    "    X = df.iloc[:, 0] # X column of the data\n",
    "    Y = df.iloc[:, 1] # Y column of the data\n",
    "    \n",
    "    #if the number of features in X are more than 10,000 use gradient descent\n",
    "    w = gradient_descent_runner(X, Y, learning_rate, epoch, degree, w)\n",
    "    gradient_plotter(X, Y, w, 'Gradient Descent Method')\n",
    "    \n",
    "    #if the number of features in X are less than 10,000 use the normal equation\n",
    "    w = normal_method(df, degree)\n",
    "    gradient_plotter(X, Y, w, 'Normal Method')"
   ]
  },
  {
   "cell_type": "code",
   "execution_count": null,
   "metadata": {},
   "outputs": [],
   "source": []
  }
 ],
 "metadata": {
  "kernelspec": {
   "display_name": "Python 3",
   "language": "python",
   "name": "python3"
  },
  "language_info": {
   "codemirror_mode": {
    "name": "ipython",
    "version": 3
   },
   "file_extension": ".py",
   "mimetype": "text/x-python",
   "name": "python",
   "nbconvert_exporter": "python",
   "pygments_lexer": "ipython3",
   "version": "3.7.3"
  }
 },
 "nbformat": 4,
 "nbformat_minor": 2
}
